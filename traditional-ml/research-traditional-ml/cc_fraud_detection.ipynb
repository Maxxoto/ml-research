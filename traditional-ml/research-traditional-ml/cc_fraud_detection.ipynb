{
 "cells": [
  {
   "cell_type": "markdown",
   "metadata": {},
   "source": [
    "### Load libs"
   ]
  },
  {
   "cell_type": "code",
   "execution_count": 4,
   "metadata": {},
   "outputs": [],
   "source": [
    "import pandas as pd"
   ]
  },
  {
   "cell_type": "code",
   "execution_count": null,
   "metadata": {},
   "outputs": [],
   "source": []
  },
  {
   "cell_type": "markdown",
   "metadata": {},
   "source": [
    "### Load Data"
   ]
  },
  {
   "cell_type": "code",
   "execution_count": null,
   "metadata": {},
   "outputs": [
    {
     "name": "stdout",
     "output_type": "stream",
     "text": [
      "<class 'pandas.core.frame.DataFrame'>\n",
      "RangeIndex: 984 entries, 0 to 983\n",
      "Data columns (total 5 columns):\n",
      " #   Column             Non-Null Count  Dtype \n",
      "---  ------             --------------  ----- \n",
      " 0   credit_card        984 non-null    int64 \n",
      " 1   city               984 non-null    object\n",
      " 2   state              984 non-null    object\n",
      " 3   zipcode            984 non-null    int64 \n",
      " 4   credit_card_limit  984 non-null    int64 \n",
      "dtypes: int64(3), object(2)\n",
      "memory usage: 38.6+ KB\n",
      "        credit_card      city state  zipcode  credit_card_limit\n",
      "0  1280981422329509    Dallas    PA    18612               6000\n",
      "1  9737219864179988   Houston    PA    15342              16000\n",
      "2  4749889059323202    Auburn    MA     1501              14000\n",
      "3  9591503562024072   Orlando    WV    26412              18000\n",
      "4  2095640259001271  New York    NY    10001              20000\n"
     ]
    }
   ],
   "source": [
    "df_cc = pd.read_csv(\"credit_card_dataset/cc_info.csv\")\n",
    "df_transaction = pd.read_csv(\"credit_card_dataset/transactions.csv\")\n",
    "\n",
    "df_cc.info()\n",
    "print(df_cc.head())\n"
   ]
  },
  {
   "cell_type": "code",
   "execution_count": 19,
   "metadata": {},
   "outputs": [
    {
     "name": "stdout",
     "output_type": "stream",
     "text": [
      "<class 'pandas.core.frame.DataFrame'>\n",
      "RangeIndex: 294588 entries, 0 to 294587\n",
      "Data columns (total 5 columns):\n",
      " #   Column                     Non-Null Count   Dtype  \n",
      "---  ------                     --------------   -----  \n",
      " 0   credit_card                294588 non-null  int64  \n",
      " 1   date                       294588 non-null  object \n",
      " 2   transaction_dollar_amount  294588 non-null  float64\n",
      " 3   Long                       294588 non-null  float64\n",
      " 4   Lat                        294588 non-null  float64\n",
      "dtypes: float64(3), int64(1), object(1)\n",
      "memory usage: 11.2+ MB\n"
     ]
    },
    {
     "data": {
      "text/html": [
       "<div>\n",
       "<style scoped>\n",
       "    .dataframe tbody tr th:only-of-type {\n",
       "        vertical-align: middle;\n",
       "    }\n",
       "\n",
       "    .dataframe tbody tr th {\n",
       "        vertical-align: top;\n",
       "    }\n",
       "\n",
       "    .dataframe thead th {\n",
       "        text-align: right;\n",
       "    }\n",
       "</style>\n",
       "<table border=\"1\" class=\"dataframe\">\n",
       "  <thead>\n",
       "    <tr style=\"text-align: right;\">\n",
       "      <th></th>\n",
       "      <th>credit_card</th>\n",
       "      <th>date</th>\n",
       "      <th>transaction_dollar_amount</th>\n",
       "      <th>Long</th>\n",
       "      <th>Lat</th>\n",
       "    </tr>\n",
       "  </thead>\n",
       "  <tbody>\n",
       "    <tr>\n",
       "      <th>0</th>\n",
       "      <td>1003715054175576</td>\n",
       "      <td>2015-09-11 00:32:40</td>\n",
       "      <td>43.78</td>\n",
       "      <td>-80.174132</td>\n",
       "      <td>40.267370</td>\n",
       "    </tr>\n",
       "    <tr>\n",
       "      <th>1</th>\n",
       "      <td>1003715054175576</td>\n",
       "      <td>2015-10-24 22:23:08</td>\n",
       "      <td>103.15</td>\n",
       "      <td>-80.194240</td>\n",
       "      <td>40.180114</td>\n",
       "    </tr>\n",
       "    <tr>\n",
       "      <th>2</th>\n",
       "      <td>1003715054175576</td>\n",
       "      <td>2015-10-26 18:19:36</td>\n",
       "      <td>48.55</td>\n",
       "      <td>-80.211033</td>\n",
       "      <td>40.313004</td>\n",
       "    </tr>\n",
       "    <tr>\n",
       "      <th>3</th>\n",
       "      <td>1003715054175576</td>\n",
       "      <td>2015-10-22 19:41:10</td>\n",
       "      <td>136.18</td>\n",
       "      <td>-80.174138</td>\n",
       "      <td>40.290895</td>\n",
       "    </tr>\n",
       "    <tr>\n",
       "      <th>4</th>\n",
       "      <td>1003715054175576</td>\n",
       "      <td>2015-10-26 20:08:22</td>\n",
       "      <td>71.82</td>\n",
       "      <td>-80.238720</td>\n",
       "      <td>40.166719</td>\n",
       "    </tr>\n",
       "  </tbody>\n",
       "</table>\n",
       "</div>"
      ],
      "text/plain": [
       "        credit_card                 date  transaction_dollar_amount  \\\n",
       "0  1003715054175576  2015-09-11 00:32:40                      43.78   \n",
       "1  1003715054175576  2015-10-24 22:23:08                     103.15   \n",
       "2  1003715054175576  2015-10-26 18:19:36                      48.55   \n",
       "3  1003715054175576  2015-10-22 19:41:10                     136.18   \n",
       "4  1003715054175576  2015-10-26 20:08:22                      71.82   \n",
       "\n",
       "        Long        Lat  \n",
       "0 -80.174132  40.267370  \n",
       "1 -80.194240  40.180114  \n",
       "2 -80.211033  40.313004  \n",
       "3 -80.174138  40.290895  \n",
       "4 -80.238720  40.166719  "
      ]
     },
     "execution_count": 19,
     "metadata": {},
     "output_type": "execute_result"
    }
   ],
   "source": [
    "df_transaction.info()\n",
    "df_transaction.head()"
   ]
  },
  {
   "cell_type": "code",
   "execution_count": null,
   "metadata": {},
   "outputs": [],
   "source": []
  },
  {
   "cell_type": "code",
   "execution_count": null,
   "metadata": {},
   "outputs": [],
   "source": []
  },
  {
   "cell_type": "markdown",
   "metadata": {},
   "source": [
    "### Exploratory Data Analysis "
   ]
  },
  {
   "cell_type": "code",
   "execution_count": null,
   "metadata": {},
   "outputs": [],
   "source": []
  }
 ],
 "metadata": {
  "kernelspec": {
   "display_name": "research-traditional-ml-DUucrcRT",
   "language": "python",
   "name": "python3"
  },
  "language_info": {
   "codemirror_mode": {
    "name": "ipython",
    "version": 3
   },
   "file_extension": ".py",
   "mimetype": "text/x-python",
   "name": "python",
   "nbconvert_exporter": "python",
   "pygments_lexer": "ipython3",
   "version": "3.10.14"
  }
 },
 "nbformat": 4,
 "nbformat_minor": 2
}
