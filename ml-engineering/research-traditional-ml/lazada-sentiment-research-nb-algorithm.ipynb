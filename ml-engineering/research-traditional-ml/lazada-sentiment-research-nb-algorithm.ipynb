{
  "cells": [
    {
      "cell_type": "markdown",
      "metadata": {
        "_uuid": "c9750b268761fcc864b826c4198689026cf2d1a6",
        "id": "joY_uPjt9eVP"
      },
      "source": [
        "\n",
        "# **Analisa Kepuasan Pelanggan Marketplace berdasarkan Review**\n"
      ]
    },
    {
      "cell_type": "markdown",
      "metadata": {
        "_uuid": "1d07c6dedfbe45292ad7614b414dbf29c14a9070",
        "id": "zFBdFGHJ9eVV"
      },
      "source": [
        "# <span id=\"1\"></span> Overview\n",
        "<hr/>\n",
        "Mencoba semua metode untuk memprediksi kepuasan pelanggan berdasarkan review setiap produk dan sentiment menggunakan Naive Bayes\n",
        "<br/>\n"
      ]
    },
    {
      "cell_type": "markdown",
      "metadata": {
        "_uuid": "c1436e92c2e44d5142e0947321d7c4b833245ad5",
        "id": "3mZRgs4o9eVh"
      },
      "source": [
        "## Import modules dan Load dataset dari kaggle\n"
      ]
    },
    {
      "cell_type": "code",
      "execution_count": 3,
      "metadata": {
        "colab": {
          "base_uri": "https://localhost:8080/",
          "height": 53
        },
        "id": "clsrp9ClMhyZ",
        "outputId": "25e7e4d3-3841-4ea6-805c-6d27d9413ce7"
      },
      "outputs": [
        {
          "name": "stdout",
          "output_type": "stream",
          "text": [
            "Dataset URL: https://www.kaggle.com/datasets/maxxoto/customer-review-elektronik-lazada-dataset\n",
            "License(s): unknown\n",
            "Downloading customer-review-elektronik-lazada-dataset.zip to /Users/maxxoto/Study/Personal/Machine-Learning/ml-study/ml-engineering/research-traditional-ml\n",
            " 91%|██████████████████████████████████▋   | 6.00M/6.57M [00:01<00:00, 5.83MB/s]\n",
            "100%|██████████████████████████████████████| 6.57M/6.57M [00:01<00:00, 4.99MB/s]\n"
          ]
        }
      ],
      "source": [
        "import json\n",
        "import os\n",
        "import kaggle\n",
        "from dotenv import load_dotenv\n",
        "\n",
        "load_dotenv()\n",
        "\n",
        "token_api = {\"username\":\"maxxoto\",\"key\":\"\"}\n",
        "\n",
        "token_api['key'] = os.getenv('KAGGLE_API_KEY')\n",
        "\n",
        "# Buat JSON File\n",
        "with open('kaggle.json', 'w') as outfile:\n",
        "    json.dump(token_api, outfile)\n",
        "\n",
        "%mv kaggle.json /Users/maxxoto/.kaggle/kaggle.json\n",
        "\n",
        "# Change the permissions of the kaggle.json file\n",
        "os.chmod('/Users/maxxoto/.kaggle/kaggle.json', 0o600)\n",
        "\n",
        "!kaggle datasets download -d maxxoto/customer-review-elektronik-lazada-dataset"
      ]
    },
    {
      "cell_type": "code",
      "execution_count": null,
      "metadata": {
        "_cell_guid": "79c7e3d0-c299-4dcb-8224-4455121ee9b0",
        "_kg_hide-input": true,
        "_uuid": "d629ff2d2480ee46fbb7e2d37f6b5fab8052498a",
        "colab": {
          "base_uri": "https://localhost:8080/",
          "height": 1000
        },
        "id": "XYedvUQq9eVl",
        "outputId": "4f4dfb43-2a40-4711-933e-dd79885fed23",
        "trusted": true
      },
      "outputs": [],
      "source": [
        "import pandas as pd\n",
        "import numpy as np\n",
        "import datetime as dt\n",
        "import matplotlib.pyplot as plt\n",
        "import seaborn as sns\n",
        "from wordcloud import WordCloud\n",
        "\n",
        "# Module metode\n",
        "\n",
        "# from sklearn.linear_model import LogisticRegression\n",
        "from sklearn.naive_bayes import MultinomialNB\n",
        "# from sklearn.neural_network import MLPClassifier\n",
        "# from sklearn.svm import SVC\n",
        "\n",
        "from sklearn.metrics import roc_curve, auc\n",
        "from sklearn.feature_extraction.text import CountVectorizer\n",
        "from sklearn.model_selection import train_test_split\n",
        "\n",
        "from sklearn.metrics import confusion_matrix\n",
        "import sklearn.metrics as mt\n",
        "\n",
        "# from plotly import tools\n",
        "# import plotly.offline as py\n",
        "# py.init_notebook_mode(connected=True)\n",
        "# import plotly.graph_objs as go\n",
        "import plotly\n",
        "import plotly.graph_objs as go\n",
        "from plotly import tools\n",
        "from plotly.offline import *\n",
        "\n",
        "%matplotlib inline\n",
        "import warnings\n",
        "warnings.filterwarnings('ignore')\n",
        "\n",
        "\n",
        "\n",
        "# Load Data\n",
        "df1 = pd.read_csv('customer-review-elektronik-lazada-dataset.zip', compression='zip', header=0, sep=',', quotechar='\"')\n",
        "# df1 = pd.read_csv('Dataset AI - Reviews.csv')\n",
        "\n",
        "\n",
        "# DATA CLEANING\n",
        "df = df1[['itemName','Brand','rating','reviewContent','clientType']]\n",
        "\n",
        "df1.info()\n",
        "# df1.describe()\n",
        "df1.head(20)"
      ]
    },
    {
      "cell_type": "markdown",
      "metadata": {
        "_uuid": "b3e18f15da8f15842316c82e248a8d8752e5fcba",
        "id": "L1UcLJtS9eWC"
      },
      "source": [
        "## Menambahkan perhitungan tiap kata pada review"
      ]
    },
    {
      "cell_type": "code",
      "execution_count": null,
      "metadata": {
        "_kg_hide-input": true,
        "_kg_hide-output": false,
        "_uuid": "1cda9ceace361f152f30fa199f021528d0f9f2b7",
        "colab": {
          "base_uri": "https://localhost:8080/",
          "height": 204
        },
        "id": "5jIyTXnY9eWJ",
        "outputId": "ff849668-7882-4aa5-8349-dd0a1efd2707",
        "trusted": true
      },
      "outputs": [],
      "source": [
        "# fill NA values by space\n",
        "df['reviewContent'] = df['reviewContent'].fillna('')\n",
        "\n",
        "# CountVectorizer() converts a collection\n",
        "# of text documents to a matrix of token counts\n",
        "vectorizer = CountVectorizer()\n",
        "# assign a shorter name for the analyze\n",
        "# which tokenizes the string\n",
        "analyzer = vectorizer.build_analyzer()\n",
        "\n",
        "def wordcounts(s):\n",
        "    c = {}\n",
        "    # tokenize the string and continue, if it is not empty\n",
        "    if analyzer(s):\n",
        "        d = {}\n",
        "        # find counts of the vocabularies and transform to array\n",
        "        w = vectorizer.fit_transform([s]).toarray()\n",
        "        # vocabulary and index (index of w)\n",
        "        vc = vectorizer.vocabulary_\n",
        "        # items() transforms the dictionary's (word, index) tuple pairs\n",
        "        for k,v in vc.items():\n",
        "            d[v]=k # d -> index:word\n",
        "        for index,i in enumerate(w[0]):\n",
        "            c[d[index]] = i # c -> word:count\n",
        "    return  c\n",
        "\n",
        "# add new column to the dataframe\n",
        "df['Word Counts'] = df['reviewContent'].apply(wordcounts)\n",
        "df.head()"
      ]
    },
    {
      "cell_type": "markdown",
      "metadata": {
        "_uuid": "984a74c85fce1587d0116d6a75610d57a185421c",
        "id": "K2hP6iNg9eWa"
      },
      "source": [
        "## Mencetak banyaknya kata yang muncul setiap reviewnya\n"
      ]
    },
    {
      "cell_type": "code",
      "execution_count": null,
      "metadata": {
        "_kg_hide-input": true,
        "_uuid": "ddd45a2082a6a6a70642ec16fca3f4b355da1285",
        "colab": {
          "base_uri": "https://localhost:8080/",
          "height": 1000
        },
        "id": "lKJ2cZxJ9eWf",
        "outputId": "0e48e135-5e20-4090-f5b5-97ccf395f511",
        "trusted": true
      },
      "outputs": [],
      "source": [
        "selectedwords = ['good','good job','bagus','puas','memuaskan','recommended','joss','mantap',\n",
        "                 'keren','sesuai','barang sesuai','mengecewakan','rusak','tidak bagus','parah','pengiriman lama',\n",
        "                 'bekas','kurang puas','lambat','keterlaluan','kecewa','barang tidak sesuai','tidak diterima',\n",
        "                 'tidak menerima barang','packing pecah','barang hancur','penipu','bohong','fast respon']\n",
        "\n",
        "\n",
        "\n",
        "def selectedcount(dic,word):\n",
        "    if word in dic:\n",
        "        return dic[word]\n",
        "    else:\n",
        "        return 0\n",
        "\n",
        "# Copy dataframe utama ke dataframe wordcount untuk diolah tanpa merusak dataframe utama\n",
        "dfwc = df.copy()\n",
        "\n",
        "for word in selectedwords:\n",
        "    dfwc[word] = dfwc['Word Counts'].apply(selectedcount,args=(word,))\n",
        "\n",
        "word_sum = dfwc[selectedwords].sum()\n",
        "print('Selected Words')\n",
        "print(word_sum.sort_values(ascending=False).iloc[:5])\n",
        "\n",
        "# Masukkan hasil hitungan class name / kategory ke wordcloud\n",
        "print('\\nBrand')\n",
        "print(df['Brand'].fillna(\"Empty\").value_counts().iloc[:5])\n",
        "\n",
        "fig, ax = plt.subplots(1,2,figsize=(20,10))\n",
        "wc0 = WordCloud(background_color='white',\n",
        "                      width=450,\n",
        "                      height=400 ).generate_from_frequencies(word_sum)\n",
        "\n",
        "cn = df['Brand'].fillna(\" \").value_counts()\n",
        "wc1 = WordCloud(background_color='white',\n",
        "                      width=450,\n",
        "                      height=400\n",
        "                     ).generate_from_frequencies(cn)\n",
        "\n",
        "ax[0].imshow(wc0)\n",
        "ax[0].set_title('Kata Pilihan\\n',size=25)\n",
        "ax[0].axis('off')\n",
        "\n",
        "ax[1].imshow(wc1)\n",
        "ax[1].set_title('Brand\\n',size=25)\n",
        "ax[1].axis('off')\n",
        "\n",
        "rt = df['reviewContent']\n",
        "plt.subplots(figsize=(18,6))\n",
        "wordcloud = WordCloud(background_color='white',\n",
        "                      width=900,\n",
        "                      height=300\n",
        "                     ).generate(\" \".join(rt))\n",
        "plt.imshow(wordcloud)\n",
        "plt.title('Rekap Kata Reviewer\\n',size=25)\n",
        "plt.axis('off')\n",
        "plt.show()"
      ]
    },
    {
      "cell_type": "markdown",
      "metadata": {
        "_uuid": "a3f7f0b362d9171cce9eef2f32f1c6ca7d4a74f2",
        "id": "DD9xNaT09eWx"
      },
      "source": [
        " ## Melihat keterkaitan suatu data dari kolom : Rating dan Brand\n"
      ]
    },
    {
      "cell_type": "code",
      "execution_count": null,
      "metadata": {
        "_kg_hide-input": true,
        "_uuid": "6f4a2b818be0f6364e6bec4cebf94ba13a869432",
        "colab": {
          "base_uri": "https://localhost:8080/",
          "height": 1000
        },
        "id": "jO8i8eqU9eW3",
        "outputId": "9f97657b-9de1-408a-f4b4-72f40c9c6065",
        "trusted": true
      },
      "outputs": [],
      "source": [
        "df1=df['rating'].value_counts().to_frame()\n",
        "avgdf1 = df.groupby('Brand').agg({'rating': np.average})\n",
        "avgdf1.describe()\n",
        "trace1 = go.Bar(\n",
        "    x=avgdf1.index,\n",
        "    y=round(avgdf1['rating'],2),\n",
        "    marker=dict(\n",
        "        color=df['rating'],\n",
        "        colorscale = 'RdBu')\n",
        ")\n",
        "\n",
        "trace2 = go.Bar(\n",
        "    x=df1.index,\n",
        "    y=df1.rating,\n",
        "    marker=dict(\n",
        "        color=df1['rating'],\n",
        "        colorscale = 'RdBu')\n",
        ")\n",
        "\n",
        "\n",
        "fig = tools.make_subplots(rows=2, cols=1, print_grid=False)\n",
        "\n",
        "fig.append_trace(trace1, 1, 1)\n",
        "fig.append_trace(trace2, 2, 1)\n",
        "\n",
        "\n",
        "fig['layout']['xaxis1'].update(title='Brand')\n",
        "fig['layout']['yaxis1'].update(title='Rata-rata Rating')\n",
        "fig['layout']['xaxis2'].update(title='Rating')\n",
        "fig['layout']['yaxis2'].update(title='Jumlah')\n",
        "\n",
        "\n",
        "fig['layout'].update(height=1000, width=1200,showlegend=False)\n",
        "fig.update_layout({'plot_bgcolor':'rgba(0,0,0,0)',\n",
        "                   'paper_bgcolor':'rgba(0,0,0,0)'})\n",
        "fig.show()\n",
        "\n",
        "#fig['layout'].update(plot_bgcolor='rgba(0,0,0,0)')\n",
        "#fig['layout'].update(paper_bgcolor='rgba(0,0,0,0)')\n",
        "# py.iplot(fig)\n",
        "# plotly.offline.plot(fig)"
      ]
    },
    {
      "cell_type": "markdown",
      "metadata": {
        "_uuid": "c688babf6822d1b322ae38d34264d2adce7b5e97",
        "id": "6_rfydKK9eXK"
      },
      "source": [
        "# Visualisasi Penjualan terbanyak"
      ]
    },
    {
      "cell_type": "code",
      "execution_count": null,
      "metadata": {
        "_kg_hide-input": true,
        "_uuid": "fbf76a6f3e33e712706170704857fd44634571fb",
        "colab": {
          "base_uri": "https://localhost:8080/",
          "height": 560
        },
        "id": "tIiUpdg_9eXN",
        "outputId": "9162fff9-2cd0-40f9-8120-d68806c0773e",
        "trusted": true
      },
      "outputs": [],
      "source": [
        "cv = df['Brand'].value_counts()\n",
        "\n",
        "trace = go.Scatter3d( x = avgdf1.index,\n",
        "                      y = avgdf1['rating'],\n",
        "                      z = cv[avgdf1.index],\n",
        "                      mode = 'markers',\n",
        "                      marker = dict(size=10,color=avgdf1['rating']),\n",
        "                      hoverinfo =\"text\",\n",
        "                      text=\"Brand: \"+avgdf1.index+\" \\ Rating rata-rata: \"+avgdf1['rating'].map(' {:,.2f}'.format).apply(str)+\" \\ Jumlah Reviewer: \"+cv[avgdf1.index].apply(str)\n",
        "                      )\n",
        "\n",
        "data = [trace]\n",
        "layout = go.Layout(title=\"Rata-rata rating,brand dan jumlah reviewer\",\n",
        "                   scene = dict(\n",
        "                    xaxis = dict(title='Brand'),\n",
        "                    yaxis = dict(title='Rata-rata Rating'),\n",
        "                    zaxis = dict(title='Jumlah Penjualan'),),\n",
        "                   margin = dict(l=30, r=30, b=30, t=30))\n",
        "fig = go.Figure(data=data, layout=layout)\n",
        "fig.show()\n",
        "plotly.offline.plot(fig)\n"
      ]
    },
    {
      "cell_type": "markdown",
      "metadata": {
        "_uuid": "96797ed17ba3cd3c6aa41bdef38cb10deb409341",
        "id": "K1RqDpP-9eXZ"
      },
      "source": [
        " # Membuat Klasifikasi\n"
      ]
    },
    {
      "cell_type": "code",
      "execution_count": null,
      "metadata": {
        "id": "eP0HgzzcKEnU"
      },
      "outputs": [],
      "source": []
    },
    {
      "cell_type": "markdown",
      "metadata": {
        "_uuid": "a0ca41ad24d601e6eed1dd42dc592ac927edc7a7",
        "id": "Q2GXFDRG9eXc"
      },
      "source": [
        "Membuat sentiment dikolom baru untuk menentukan apakah review tersebut positif atau negatif berdasarkan point .\n",
        "\n",
        "1-2 = Negatif\n",
        "3 = Netral\n",
        "4-5 = Positif"
      ]
    },
    {
      "cell_type": "code",
      "execution_count": null,
      "metadata": {
        "_kg_hide-input": true,
        "_uuid": "ef4e5b9dac84bbbb9bf3a08b5e63e75a70514dfe",
        "id": "exGIMgPA9eXd",
        "trusted": true
      },
      "outputs": [],
      "source": [
        "#Memfilter menghilangkan rating bernilai 3\n",
        "df = df[df['rating'] != 3]\n",
        "\n",
        "#membuat kolom baru dengan kriteria jika rating > 4 sentiment = True\n",
        "df['Sentiment Aktual'] = df['rating'] >=4\n",
        "df.head(10)\n",
        "\n",
        "# KOLOM SENTIMENT YAITU DEPENDENT VARIABEL YANG DIGUNAKAN UNTUK DATA TESTING DAN TRAINING\n",
        "# UNTUK PEMBANDING SAAT PROSES TRAINING DATA\n",
        "# https://www.dailysmarty.com/posts/difference-between-independent-and-dependent-variables-in-machine-learning\n",
        "\n",
        "# Membagi data training dan testing , dengan library\n",
        "train_data,test_data = train_test_split(df,train_size=0.8,random_state=0)\n",
        "\n",
        "# prepare data training\n",
        "X_train = vectorizer.fit_transform(train_data['reviewContent'])\n",
        "y_train = train_data['Sentiment Aktual']\n",
        "\n",
        "# prepare data testing\n",
        "X_test = vectorizer.transform(test_data['reviewContent'])\n",
        "y_test = test_data['Sentiment Aktual']"
      ]
    },
    {
      "cell_type": "markdown",
      "metadata": {
        "_uuid": "ad4bd4a855ddc670eedf280b3a81efa9a57d470e",
        "id": "e3q7zF8U9eYA"
      },
      "source": [
        "## <span id=\"8\"></span> Naive Bayes"
      ]
    },
    {
      "cell_type": "code",
      "execution_count": null,
      "metadata": {
        "_uuid": "4715c54fec338f8017b2f5597490c9a16ce4f101",
        "colab": {
          "base_uri": "https://localhost:8080/",
          "height": 35
        },
        "id": "shT0UUQx9eYC",
        "outputId": "ecf9151b-e2e8-4695-bc59-e5aabca30c03",
        "trusted": true
      },
      "outputs": [],
      "source": [
        "start=dt.datetime.now()\n",
        "nb = MultinomialNB()\n",
        "nb.fit(X_train,y_train)\n",
        "print('Elapsed time: ',str(dt.datetime.now()-start))"
      ]
    },
    {
      "cell_type": "markdown",
      "metadata": {
        "_uuid": "e37a1b005158073c90e0813313a15428aefb0f02",
        "id": "3SyJsTBv9eYz"
      },
      "source": [
        "# <span id=\"11\"></span> Proses Hasil Prediksi\n"
      ]
    },
    {
      "cell_type": "markdown",
      "metadata": {
        "_uuid": "c5e0df1e9c4fc2e9b6c00c57d5b8be355be89b7e",
        "id": "oATKbmgD9eY0"
      },
      "source": [
        "## <span id=\"12\"></span> Tambah Hasil Prediksi ke Data Frame"
      ]
    },
    {
      "cell_type": "code",
      "execution_count": null,
      "metadata": {
        "_kg_hide-input": true,
        "_uuid": "268d92918c01136e0222364060abf37d91422849",
        "colab": {
          "base_uri": "https://localhost:8080/",
          "height": 1000
        },
        "id": "iMwpNvrq9eY7",
        "outputId": "02f8deec-4aa2-4e0b-a148-8af5bf92bb61",
        "trusted": true
      },
      "outputs": [],
      "source": [
        "# define a dataframe for the prediction probablities of the models\n",
        "# df1 = train_data.copy()\n",
        "# df1['Logistic Regression'] = lr.predict_proba(X_train)[:,1]\n",
        "# df1['Naive Bayes'] = nb.predict_proba(X_train)[:,1]\n",
        "# df1['SVM'] = svm.decision_function(X_train)\n",
        "# df1['Neural Network'] = nn.predict_proba(X_train)[:,1]\n",
        "# df1=df1.round(2)\n",
        "# df1.head(20)\n",
        "\n",
        "#define a dataframe for the predictions\n",
        "df2 = train_data.copy()\n",
        "# df2['Logistic Regression'] = lr.predict(X_train)\n",
        "df2['Sentiment Prediksi'] = nb.predict(X_train)\n",
        "# df2['SVM'] = svm.predict(X_train)\n",
        "# df2['Neural Network'] = nn.predict(X_train)\n",
        "df2.sample(20)"
      ]
    },
    {
      "cell_type": "markdown",
      "metadata": {
        "id": "WFQOqw5OrhjG"
      },
      "source": [
        "## <span id=\"11\"></span> Kesimpulan Analisa Berdasarkan Prediksi Sentiment"
      ]
    },
    {
      "cell_type": "code",
      "execution_count": null,
      "metadata": {
        "colab": {
          "base_uri": "https://localhost:8080/",
          "height": 606
        },
        "id": "2RtvsnKzrvIq",
        "outputId": "b66a8b15-0519-4808-a367-d27248538399"
      },
      "outputs": [],
      "source": [
        "## <span id=\"11\"></span>hKesimpulan </span>\n",
        "df_hasil = df2['Sentiment Prediksi']\n",
        "df_aktual = df2['Sentiment Aktual']\n",
        "# df['Class Name'].fillna(\"Empty\").value_counts().iloc[:5]\n",
        "total_data = df_hasil.count()\n",
        "# TOTAL PREDIKSI\n",
        "total_positif = df_hasil.values.sum()\n",
        "total_negatif = (~df_hasil).values.sum()\n",
        "\n",
        "#TOTAL AKTUAL\n",
        "total_aktual_positif = df_aktual.values.sum()\n",
        "total_aktual_negatif = (~df_aktual).values.sum()\n",
        "\n",
        "print(\"Jumlah Total Data :\" , total_data)\n",
        "print(\"Jumlah Positif : \" , total_positif)\n",
        "print(\"Jumlah Negatif : \" , total_negatif)\n",
        "\n",
        "# Visualisasi Presentase\n",
        "\n",
        "color_palette_list = ['#009ACD', '#ADD8E6', '#63D1F4', '#0EBFE9',\n",
        "                      '#C1F0F6', '#FFA500','#FFFF00']\n",
        "labels = ['Pelanggan Puas',\n",
        "          'Pelanggan Tidak Puas']\n",
        "percentages = [total_positif, total_negatif]\n",
        "percentages2 = [total_aktual_positif,total_aktual_negatif]\n",
        "\n",
        "fig,(ax1,ax2) = plt.subplots(1,2,figsize=(20,15))\n",
        "ax1.pie(percentages,labels = labels,colors = color_palette_list[0:2],autopct = '%1.1f%%') #plot first pie\n",
        "ax1.set_title('Presentase Data Prediksi')\n",
        "\n",
        "ax2.pie(percentages2,labels = labels,colors = color_palette_list[5:7],autopct = '%1.1f%%') #plot second pie\n",
        "ax2.set_title('Presentase Data Aktual')\n",
        "\n",
        "# data = [trace]\n",
        "\n",
        "\n",
        "# fig = go.Figure(data=data, layout=layout)\n",
        "plt.show()\n",
        "# plotly.offline.iplot(fig, filename='lazada_kesimpulan')"
      ]
    },
    {
      "cell_type": "markdown",
      "metadata": {
        "_uuid": "0ca48e96a1af34602deeed24ee1df8c09b5f0012",
        "id": "01BSaRGh9eZJ"
      },
      "source": [
        "## Menghitung kinerja klasifikasi dengan ROC Curves and AUC"
      ]
    },
    {
      "cell_type": "markdown",
      "metadata": {
        "id": "nv6EPMaS9eZM"
      },
      "source": [
        "Menampilkan performa dari hasil binary klasifikasi"
      ]
    },
    {
      "cell_type": "code",
      "execution_count": null,
      "metadata": {
        "_kg_hide-input": true,
        "_uuid": "967355c906e983f36af66b7cc3b6fb43f2447e7c",
        "colab": {
          "base_uri": "https://localhost:8080/"
        },
        "id": "zfcZLFyu9eZO",
        "outputId": "774d8110-74b0-4d3b-ea9a-b76e7e1ab800",
        "trusted": true
      },
      "outputs": [],
      "source": [
        "# pred_lr = lr.predict_proba(X_test)[:,1]\n",
        "# fpr_lr,tpr_lr,_ = roc_curve(y_test,pred_lr)\n",
        "# roc_auc_lr = auc(fpr_lr,tpr_lr)\n",
        "\n",
        "pred_nb = nb.predict_proba(X_test)[:,1]\n",
        "fpr_nb,tpr_nb,_ = roc_curve(y_test.values,pred_nb)\n",
        "roc_auc_nb = auc(fpr_nb,tpr_nb)\n",
        "\n",
        "# pred_svm = svm.decision_function(X_test)\n",
        "# fpr_svm,tpr_svm,_ = roc_curve(y_test.values,pred_svm)\n",
        "# roc_auc_svm = auc(fpr_svm,tpr_svm)\n",
        "\n",
        "# pred_nn = nn.predict_proba(X_test)[:,1]\n",
        "# fpr_nn,tpr_nn,_ = roc_curve(y_test.values,pred_nn)\n",
        "# roc_auc_nn = auc(fpr_nn,tpr_nn)\n",
        "\n",
        "# f, axes = plt.subplots(2, 2,figsize=(15,10))\n",
        "f, axes = plt.subplots(figsize=(15,10))\n",
        "# axes[0,0].plot(fpr_lr, tpr_lr, color='darkred', lw=2, label='ROC curve (area = {:0.2f})'.format(roc_auc_lr))\n",
        "# axes[0,0].plot([0, 1], [0, 1], color='navy', lw=2, linestyle='--')\n",
        "# axes[0,0].set(xlim=[-0.01, 1.0], ylim=[-0.01, 1.05])\n",
        "# axes[0,0].set(xlabel ='False Positive Rate', ylabel = 'True Positive Rate', title = 'Logistic Regression')\n",
        "# axes[0,0].legend(loc='lower right', fontsize=13)\n",
        "\n",
        "axes.plot(fpr_nb, tpr_nb, color='darkred', lw=2, label='ROC curve (area = {:0.2f})'.format(roc_auc_nb))\n",
        "axes.plot([0, 1], [0, 1], color='navy', lw=2, linestyle='--')\n",
        "axes.set(xlim=[-0.01, 1.0], ylim=[-0.01, 1.05])\n",
        "axes.set(xlabel ='False Positive Rate', ylabel = 'True Positive Rate', title = 'Naive Bayes')\n",
        "axes.legend(loc='lower right', fontsize=13)\n",
        "\n",
        "\n",
        "# axes[1,0].plot(fpr_svm, tpr_svm, color='darkred', lw=2, label='ROC curve (area = {:0.2f})'.format(roc_auc_svm))\n",
        "# axes[1,0].plot([0, 1], [0, 1], color='navy', lw=2, linestyle='--')\n",
        "# axes[1,0].set(xlim=[-0.01, 1.0], ylim=[-0.01, 1.05])\n",
        "# axes[1,0].set(xlabel ='False Positive Rate', ylabel = 'True Positive Rate', title = 'Support Vector Machine')\n",
        "# axes[1,0].legend(loc='lower right', fontsize=13)\n",
        "\n",
        "# axes[1,1].plot(fpr_nn, tpr_nn, color='darkred', lw=2, label='ROC curve (area = {:0.2f})'.format(roc_auc_nn))\n",
        "# axes[1,1].plot([0, 1], [0, 1], color='navy', lw=2, linestyle='--')\n",
        "# axes[1,1].set(xlim=[-0.01, 1.0], ylim=[-0.01, 1.05])\n",
        "# axes[1,1].set(xlabel ='False Positive Rate', ylabel = 'True Positive Rate', title = 'Neural Network')\n",
        "# axes[1,1].legend(loc='lower right', fontsize=13);"
      ]
    },
    {
      "cell_type": "markdown",
      "metadata": {
        "_uuid": "5ea828d90388d25949f285634db0546ef329d869",
        "id": "56XMsg4T9eZX"
      },
      "source": [
        "## Evaluasi Model dengan Confusion Matrix"
      ]
    },
    {
      "cell_type": "code",
      "execution_count": null,
      "metadata": {
        "_kg_hide-input": true,
        "_uuid": "b8eb4577a0c1a15ac00b554eebbcbbbd2dbf3ee8",
        "colab": {
          "base_uri": "https://localhost:8080/",
          "height": 431
        },
        "id": "F3F4iLCb9eZb",
        "outputId": "905870b4-3755-40cf-fae8-4d250f6b9730",
        "trusted": true
      },
      "outputs": [],
      "source": [
        "# preparation for the confusion matrix\n",
        "# lr_cm=confusion_matrix(y_test.values, lr.predict(X_test))\n",
        "nb_cm=confusion_matrix(y_test.values, nb.predict(X_test))\n",
        "# svm_cm=confusion_matrix(y_test.values, svm.predict(X_test))\n",
        "# nn_cm=confusion_matrix(y_test.values, nn.predict(X_test))\n",
        "\n",
        "\n",
        "plt.figure(figsize=(15,12))\n",
        "plt.suptitle(\"Confusion Matrix\",fontsize=24)\n",
        "\n",
        "# plt.subplot(2,2,1)\n",
        "# plt.title(\"Logistic Regression\")\n",
        "# sns.heatmap(lr_cm, annot = True,fmt=\".0f\");\n",
        "\n",
        "plt.subplot(2,2,2)\n",
        "plt.title(\"Naive Bayes\")\n",
        "sns.heatmap(nb_cm, annot = True,fmt=\".0f\");\n",
        "\n",
        "# plt.subplot(2,2,3)\n",
        "# plt.title(\"Support Vector Machine (SVM)\")\n",
        "# sns.heatmap(svm_cm, annot = True, fmt=\".0f\");\n",
        "\n",
        "# plt.subplot(2,2,4)\n",
        "# plt.title(\"Neural Network\")\n",
        "# sns.heatmap(nn_cm, annot = True, fmt=\".0f\");"
      ]
    },
    {
      "cell_type": "markdown",
      "metadata": {
        "id": "CW4-vN4O9eZm"
      },
      "source": [
        "## Precision - Recall - F1-Score"
      ]
    },
    {
      "cell_type": "markdown",
      "metadata": {
        "id": "QvLYIjtq9eZo"
      },
      "source": [
        "Precision Recall\n",
        "\n",
        "$$\\textbf{Precision} = \\dfrac{TP}{TP + FP} \\;\\;\\;\\;\\;\\;\\;\\;\\;\\; \\textbf{Recall} = \\dfrac{TP}{TP + FN}$$\n",
        "\n",
        "\n",
        "$$\\textbf{}$$\n",
        "\n",
        "\n",
        "$$\\textbf{F}_{1} = 2 \\; \\dfrac{Precision \\; \\times \\;Recall}{Precision + Recall} = \\dfrac{2 \\; TP}{2 \\; TP + FN + FP}$$\n",
        "\n"
      ]
    },
    {
      "cell_type": "code",
      "execution_count": null,
      "metadata": {
        "_kg_hide-input": true,
        "colab": {
          "base_uri": "https://localhost:8080/",
          "height": 215
        },
        "id": "vr5wSYsJ9eZq",
        "outputId": "a7201a74-5d6b-4c04-8291-2b4d88d5bc4a",
        "trusted": true
      },
      "outputs": [],
      "source": [
        "print(\"\\n Naive Bayes\")\n",
        "print(mt.classification_report(y_test, nb.predict(X_test)))\n"
      ]
    }
  ],
  "metadata": {
    "colab": {
      "collapsed_sections": [
        "01BSaRGh9eZJ"
      ],
      "provenance": []
    },
    "kernelspec": {
      "display_name": "research-traditional-ml-DUucrcRT",
      "language": "python",
      "name": "python3"
    },
    "language_info": {
      "codemirror_mode": {
        "name": "ipython",
        "version": 3
      },
      "file_extension": ".py",
      "mimetype": "text/x-python",
      "name": "python",
      "nbconvert_exporter": "python",
      "pygments_lexer": "ipython3",
      "version": "3.10.14"
    }
  },
  "nbformat": 4,
  "nbformat_minor": 0
}
