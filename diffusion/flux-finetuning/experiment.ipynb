{
 "cells": [
  {
   "cell_type": "markdown",
   "metadata": {},
   "source": [
    "# This program will use Flux.1 AI to generate image from text\n",
    "# Fine tuning base model with custom dataset"
   ]
  },
  {
   "cell_type": "code",
   "execution_count": null,
   "metadata": {},
   "outputs": [],
   "source": [
    "%pip install python-dotenv\n",
    "%pip install replicate"
   ]
  },
  {
   "cell_type": "code",
   "execution_count": null,
   "metadata": {},
   "outputs": [],
   "source": [
    "import os\n",
    "import replicate\n",
    "from dotenv import load_dotenv\n",
    "load_dotenv()"
   ]
  },
  {
   "cell_type": "code",
   "execution_count": null,
   "metadata": {},
   "outputs": [],
   "source": [
    "REPLICATE_API_TOKEN = os.getenv(\"REPLICATE_API_TOKEN\")\n",
    "input = \"jokowi in front of forest\"\n",
    "\n",
    "output = replicate.run(\n",
    "    \"black-forest-labs/flux-schnell\",\n",
    "    input={\n",
    "        \"prompt\": input,\n",
    "        \"num_outputs\": 1,\n",
    "        \"aspect_ratio\": \"1:1\",\n",
    "        \"output_format\": \"jpg\",\n",
    "        \"output_quality\": 80,\n",
    "        \"disable_safety_checker\": True,\n",
    "    }\n",
    ")\n",
    "print(output)"
   ]
  },
  {
   "cell_type": "code",
   "execution_count": null,
   "metadata": {},
   "outputs": [],
   "source": []
  },
  {
   "cell_type": "code",
   "execution_count": null,
   "metadata": {},
   "outputs": [],
   "source": [
    "model = replicate.models.create(\n",
    "    owner=\"maxxoto\",\n",
    "    name=\"max-flux-schnell-v1\",\n",
    "    description=\"A fine-tuned FLUX.1 model\",\n",
    "    visibility=\"private\",\n",
    "    hardware=\"gpu-t4\",\n",
    ")\n",
    "\n",
    "print(f\"Model created: {model.name}\")\n",
    "print(f\"Model URL: https://replicate.com/{model.owner}/{model.name}\")"
   ]
  },
  {
   "cell_type": "code",
   "execution_count": null,
   "metadata": {},
   "outputs": [],
   "source": [
    "training = replicate.trainings.create(\n",
    "    version=\"ostris/flux-dev-lora-trainer:4ffd32160efd92e956d39c5338a9b8fbafca58e03f791f6d8011f3e20e8ea6fa\",\n",
    "    input={\n",
    "        \"input_images\": open(\"/Users/maxxoto/Study/Personal/Machine-Learning/flux-explore/jokowi_dataset.zip\", \"rb\"),\n",
    "        \"steps\": 1000,\n",
    "        # \"hf_token\": \"YOUR_HUGGING_FACE_TOKEN\",  # optional\n",
    "        # \"hf_repo_id\": \"YOUR_HUGGING_FACE_REPO_ID\",  # optional\n",
    "    },\n",
    "    destination=f\"{model.owner}/{model.name}\"\n",
    ")\n",
    "\n",
    "print(f\"Training started: {training.status}\")\n",
    "print(f\"Training URL: https://replicate.com/p/{training.id}\")"
   ]
  },
  {
   "cell_type": "code",
   "execution_count": null,
   "metadata": {},
   "outputs": [],
   "source": [
    "output = replicate.run(\n",
    "    \"maxxoto/max-flux-schnell-v1:260c7e4440875f196de4f0c06e27e52d3533817fd1e24bed0d2861ce9547c077\",\n",
    "    input={\n",
    "        \"prompt\": \"a photorealistic potrait of jokowi wearing black suit in front of congressman\",\n",
    "        \"num_inference_steps\": 28,\n",
    "        \"guidance_scale\": 1.7,\n",
    "        \"model\": \"schnell\", #use schnell for faster inference\n",
    "        \"num_outputs\": 1,\n",
    "        \"aspect_ratio\": \"1:1\",\n",
    "        \"output_format\": \"jpg\",\n",
    "        \"output_quality\": 80,\n",
    "        \"disable_safety_checker\": True,\n",
    "        }\n",
    "    )\n",
    "\n",
    "print(output)"
   ]
  }
 ],
 "metadata": {
  "kernelspec": {
   "display_name": "flux-explore-mGAXdC9n",
   "language": "python",
   "name": "python3"
  },
  "language_info": {
   "codemirror_mode": {
    "name": "ipython",
    "version": 3
   },
   "file_extension": ".py",
   "mimetype": "text/x-python",
   "name": "python",
   "nbconvert_exporter": "python",
   "pygments_lexer": "ipython3",
   "version": "3.10.14"
  }
 },
 "nbformat": 4,
 "nbformat_minor": 2
}
