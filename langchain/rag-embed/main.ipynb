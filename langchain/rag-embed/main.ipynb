{
 "cells": [
  {
   "cell_type": "code",
   "execution_count": 59,
   "metadata": {},
   "outputs": [
    {
     "name": "stdout",
     "output_type": "stream",
     "text": [
      "\n",
      "\n",
      "0.33766710405730715\n",
      "23. The Pacific Ocean is the largest ocean on Earth, covering more than 60 million square miles.\n",
      "24. Zeus was the king of the Greek gods according to ancient Greek myth.\n",
      "\n",
      "\n",
      "0.4365785596869199\n",
      "30. The first Olympic Games were held in Ancient Greece in 776 B.C.\n",
      "31. The Mona Lisa has no visible eyebrows.\n",
      "32. A ball of glass will bounce higher than a ball of rubber.\n",
      "\n",
      "\n",
      "0.4769557954255885\n",
      "35. Dolphins sleep with one eye open.  \n",
      "36. There are 1,792 steps to the top of the Eiffel Tower.\n",
      "37. Tug-of-war was an Olympic event between 1900 and 1920.\n",
      "\n",
      "\n",
      "0.4906903990429799\n",
      "10. The Great Wall of China is approximately 13,171 miles long.\n",
      "11. Bananas are berries, but strawberries aren't.\n",
      "12. The Sphinx of Giza has the body of a lion and the head of a human.\n",
      "\n",
      "\n",
      "0.4951776118465587\n",
      "40. Charlie Chaplin once won third place in a Charlie Chaplin look-alike contest.\n",
      "41. Mount Everest is the tallest mountain in the world.\n",
      "42. No two zebras have the same pattern of stripes.\n"
     ]
    }
   ],
   "source": [
    "from dotenv import load_dotenv\n",
    "from langchain.document_loaders import TextLoader\n",
    "from langchain.text_splitter import CharacterTextSplitter\n",
    "from langchain.embeddings import OpenAIEmbeddings\n",
    "from langchain.vectorstores import Chroma\n",
    "\n",
    "import chromadb\n",
    "from chromadb.config import Settings\n",
    "\n",
    "load_dotenv()\n",
    "\n",
    "# Init\n",
    "embeddings = OpenAIEmbeddings()\n",
    "textSplitter = CharacterTextSplitter(separator=\"\\n\",chunk_size=200,chunk_overlap=0)\n",
    "\n",
    "client = chromadb.HttpClient(host=\"localhost\",port=\"3005\",settings=Settings(allow_reset=True))\n",
    "client.heartbeat()\n",
    "client.reset()  # resets the database\n",
    "collection = client.create_collection(\"stephen\")\n",
    "\n",
    "chromaLocal = Chroma(client=client,embedding_function=embeddings,persist_directory=\"emb\")\n",
    "\n",
    "# Using chroma python built-in packages\n",
    "# chromaLocal = Chroma(embedding_function=embeddings,persist_directory=\"emb\")\n",
    "\n",
    "\n",
    "# Data\n",
    "loader = TextLoader(\"./facts.txt\")\n",
    "docs = loader.load_and_split(textSplitter)\n",
    "\n",
    "# Add data to chroma\n",
    "chromaLocal._collection = collection\n",
    "chromaLocal.add_documents(docs)\n",
    "# Save data to disk\n",
    "chromaLocal.persist()\n",
    "\n",
    "# Get similarity\n",
    "result = chromaLocal.similarity_search_with_score(\"Zeus was the king of the Greek gods according to ancient Greek myth?\",k=5)\n",
    "\n",
    "for res in result:\n",
    "    print(\"\\n\")\n",
    "    print(res[1])\n",
    "    print(res[0].page_content)\n"
   ]
  },
  {
   "cell_type": "code",
   "execution_count": null,
   "metadata": {},
   "outputs": [],
   "source": []
  }
 ],
 "metadata": {
  "kernelspec": {
   "display_name": "rag-embed-DhnwSz1m",
   "language": "python",
   "name": "python3"
  },
  "language_info": {
   "codemirror_mode": {
    "name": "ipython",
    "version": 3
   },
   "file_extension": ".py",
   "mimetype": "text/x-python",
   "name": "python",
   "nbconvert_exporter": "python",
   "pygments_lexer": "ipython3",
   "version": "3.11.9"
  }
 },
 "nbformat": 4,
 "nbformat_minor": 2
}
